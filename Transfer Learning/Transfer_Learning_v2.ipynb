{
  "nbformat": 4,
  "nbformat_minor": 0,
  "metadata": {
    "colab": {
      "name": "Transfer_Learning_v2.ipynb",
      "provenance": [],
      "machine_shape": "hm"
    },
    "kernelspec": {
      "name": "python3",
      "display_name": "Python 3"
    },
    "language_info": {
      "name": "python"
    },
    "accelerator": "GPU"
  },
  "cells": [
    {
      "cell_type": "code",
      "metadata": {
        "colab": {
          "base_uri": "https://localhost:8080/"
        },
        "id": "BmxVpRQ867aV",
        "outputId": "bd792410-c5df-41e4-8af1-c5c8f945eeaa"
      },
      "source": [
        "from google.colab import drive\n",
        "drive.mount('/content/drive',force_remount=True)"
      ],
      "execution_count": 1,
      "outputs": [
        {
          "output_type": "stream",
          "text": [
            "Mounted at /content/drive\n"
          ],
          "name": "stdout"
        }
      ]
    },
    {
      "cell_type": "code",
      "metadata": {
        "id": "-w427Sve74RW"
      },
      "source": [
        "FLDR='drive/MyDrive/dogs-vs-cats/'\n"
      ],
      "execution_count": 2,
      "outputs": []
    },
    {
      "cell_type": "code",
      "metadata": {
        "id": "f0DhMUEV8OH2"
      },
      "source": [
        "import os"
      ],
      "execution_count": 3,
      "outputs": []
    },
    {
      "cell_type": "code",
      "metadata": {
        "id": "w8boRJ5M8P8Z"
      },
      "source": [
        "files_zip_full=os.listdir(FLDR)"
      ],
      "execution_count": 4,
      "outputs": []
    },
    {
      "cell_type": "code",
      "metadata": {
        "colab": {
          "base_uri": "https://localhost:8080/"
        },
        "id": "8jazKmVj8RcI",
        "outputId": "8d703746-fe07-4f7b-bb89-ad98e6431257"
      },
      "source": [
        "files_zip_full"
      ],
      "execution_count": 5,
      "outputs": [
        {
          "output_type": "execute_result",
          "data": {
            "text/plain": [
              "['sampleSubmission.csv', 'test1.zip', 'train.zip', 'weights.h5']"
            ]
          },
          "metadata": {
            "tags": []
          },
          "execution_count": 5
        }
      ]
    },
    {
      "cell_type": "code",
      "metadata": {
        "id": "wIeZvHgq9ZLF"
      },
      "source": [
        "train_data=files_zip_full[2]"
      ],
      "execution_count": 6,
      "outputs": []
    },
    {
      "cell_type": "code",
      "metadata": {
        "colab": {
          "base_uri": "https://localhost:8080/",
          "height": 35
        },
        "id": "7ijFXJ9w9cmL",
        "outputId": "3b3931ca-17aa-46c0-9c39-82d9f54fce52"
      },
      "source": [
        "train_data"
      ],
      "execution_count": 7,
      "outputs": [
        {
          "output_type": "execute_result",
          "data": {
            "application/vnd.google.colaboratory.intrinsic+json": {
              "type": "string"
            },
            "text/plain": [
              "'train.zip'"
            ]
          },
          "metadata": {
            "tags": []
          },
          "execution_count": 7
        }
      ]
    },
    {
      "cell_type": "code",
      "metadata": {
        "id": "84zjs4w-9eFP"
      },
      "source": [
        "import zipfile\n",
        "import cv2"
      ],
      "execution_count": 8,
      "outputs": []
    },
    {
      "cell_type": "code",
      "metadata": {
        "id": "jfmlX44b9gKs"
      },
      "source": [
        "archive=zipfile.ZipFile(FLDR+train_data)\n",
        "archive.extractall(FLDR+'extracted')\n",
        "  "
      ],
      "execution_count": 10,
      "outputs": []
    },
    {
      "cell_type": "code",
      "metadata": {
        "id": "RAyHVYFr-l-s"
      },
      "source": [
        "files_zip_full=os.listdir(FLDR)"
      ],
      "execution_count": 11,
      "outputs": []
    },
    {
      "cell_type": "code",
      "metadata": {
        "colab": {
          "base_uri": "https://localhost:8080/"
        },
        "id": "SA2ZxrXpCYD0",
        "outputId": "6d734ce0-6df2-484a-9855-87c34d04f54d"
      },
      "source": [
        "files_zip_full"
      ],
      "execution_count": 12,
      "outputs": [
        {
          "output_type": "execute_result",
          "data": {
            "text/plain": [
              "['sampleSubmission.csv', 'test1.zip', 'train.zip', 'weights.h5', 'extracted']"
            ]
          },
          "metadata": {
            "tags": []
          },
          "execution_count": 12
        }
      ]
    },
    {
      "cell_type": "code",
      "metadata": {
        "id": "LlZZC9fZCZOA"
      },
      "source": [
        "test_data=files_zip_full[1]"
      ],
      "execution_count": 13,
      "outputs": []
    },
    {
      "cell_type": "code",
      "metadata": {
        "id": "EBCbbLJLCeZe"
      },
      "source": [
        "archive=zipfile.ZipFile(FLDR+test_data)\n",
        "archive.extractall(FLDR+'extracted_2')"
      ],
      "execution_count": 14,
      "outputs": []
    },
    {
      "cell_type": "code",
      "metadata": {
        "id": "zxDaGApQCoHh"
      },
      "source": [
        "files_zip_full=os.listdir(FLDR)"
      ],
      "execution_count": 15,
      "outputs": []
    },
    {
      "cell_type": "code",
      "metadata": {
        "colab": {
          "base_uri": "https://localhost:8080/"
        },
        "id": "wYHKOQV9DD7j",
        "outputId": "9ea2c5f5-17c1-47f0-ea8b-8789e23c7f7f"
      },
      "source": [
        "files_zip_full"
      ],
      "execution_count": 16,
      "outputs": [
        {
          "output_type": "execute_result",
          "data": {
            "text/plain": [
              "['sampleSubmission.csv',\n",
              " 'test1.zip',\n",
              " 'train.zip',\n",
              " 'weights.h5',\n",
              " 'extracted',\n",
              " 'extracted_2']"
            ]
          },
          "metadata": {
            "tags": []
          },
          "execution_count": 16
        }
      ]
    },
    {
      "cell_type": "code",
      "metadata": {
        "id": "ddhqVEEpDE0g"
      },
      "source": [
        "training_data=files_zip_full[4]+'/train/'"
      ],
      "execution_count": 19,
      "outputs": []
    },
    {
      "cell_type": "code",
      "metadata": {
        "colab": {
          "base_uri": "https://localhost:8080/",
          "height": 35
        },
        "id": "kJNcDR3oDa3E",
        "outputId": "87e3df25-3300-4638-f3ee-6dad74b3accd"
      },
      "source": [
        "training_data"
      ],
      "execution_count": 20,
      "outputs": [
        {
          "output_type": "execute_result",
          "data": {
            "application/vnd.google.colaboratory.intrinsic+json": {
              "type": "string"
            },
            "text/plain": [
              "'extracted/train/'"
            ]
          },
          "metadata": {
            "tags": []
          },
          "execution_count": 20
        }
      ]
    },
    {
      "cell_type": "code",
      "metadata": {
        "id": "YNbvnq27DeBo"
      },
      "source": [
        "Labels=[]\n",
        "Images=[]\n",
        "\n",
        "for f_n in os.listdir(FLDR+training_data):\n",
        "  print(f_n)\n",
        "  if 'cat' in f_n or 'Cat' in f_n:\n",
        "    img=cv2.imread(FLDR+training_data+f_n,cv2.IMREAD_UNCHANGED)\n",
        "    img=cv2.resize(img,(224,224))\n",
        "    Images.append(img)\n",
        "    Labels.append(0)\n",
        "  if 'dog' in f_n or 'Dog' in f_n:\n",
        "    img=cv2.imread(FLDR+training_data+f_n,cv2.IMREAD_UNCHANGED)\n",
        "    img=cv2.resize(img,(224,224))\n",
        "    Images.append(img)\n",
        "    Labels.append(1)"
      ],
      "execution_count": null,
      "outputs": []
    },
    {
      "cell_type": "code",
      "metadata": {
        "id": "MEIRVBygH6N-"
      },
      "source": [
        "import numpy as np"
      ],
      "execution_count": 35,
      "outputs": []
    },
    {
      "cell_type": "code",
      "metadata": {
        "id": "jbqkghjdE11_"
      },
      "source": [
        "from sklearn.model_selection import train_test_split\n",
        "X_train,X_val,Y_train,Y_val= train_test_split(np.array(Images),np.array(Labels),test_size=0.15)"
      ],
      "execution_count": 44,
      "outputs": []
    },
    {
      "cell_type": "code",
      "metadata": {
        "id": "lfOl_TUdG0Sn"
      },
      "source": [
        "from tensorflow.keras.models import Model,Sequential\n",
        "from tensorflow.keras.layers import Dropout, Flatten, Dense, Input\n",
        "from tensorflow.keras.applications.resnet_v2 import ResNet50V2\n",
        "from keras import optimizers\n",
        "from keras.callbacks import ModelCheckpoint"
      ],
      "execution_count": 55,
      "outputs": []
    },
    {
      "cell_type": "code",
      "metadata": {
        "id": "NWd5gBorLyrs"
      },
      "source": [
        "def model(shape=(224,224,3)):\n",
        "  input_tensor=Input(shape=shape)             \n",
        "\n",
        "  base_model = ResNet50V2(weights=\"imagenet\", include_top=False, input_tensor=input_tensor)   \n",
        "\n",
        "  model = Sequential([\n",
        "        base_model,\n",
        "        Flatten(), \n",
        "        Dense(512, activation='relu'),\n",
        "        Dropout(0.3),         \n",
        "        Dense(1, activation='sigmoid')    \n",
        "    ])\n",
        "\n",
        "  for layer in model.layers:\n",
        "    layer.trainable = True\n",
        "  model.compile(optimizer=optimizers.Adam(lr=0.01), loss='binary_crossentropy',metrics=['accuracy'])\n",
        "  return model\n"
      ],
      "execution_count": 58,
      "outputs": []
    },
    {
      "cell_type": "code",
      "metadata": {
        "id": "qnnxG0FjHKwO"
      },
      "source": [
        "Model=model()"
      ],
      "execution_count": 59,
      "outputs": []
    },
    {
      "cell_type": "code",
      "metadata": {
        "colab": {
          "base_uri": "https://localhost:8080/"
        },
        "id": "mNJaRrncHXPF",
        "outputId": "2e4be0ab-9539-4dcf-e54f-b7835c027db8"
      },
      "source": [
        "Model.summary()"
      ],
      "execution_count": 60,
      "outputs": [
        {
          "output_type": "stream",
          "text": [
            "Model: \"sequential_1\"\n",
            "_________________________________________________________________\n",
            "Layer (type)                 Output Shape              Param #   \n",
            "=================================================================\n",
            "resnet50v2 (Functional)      (None, 7, 7, 2048)        23564800  \n",
            "_________________________________________________________________\n",
            "flatten_4 (Flatten)          (None, 100352)            0         \n",
            "_________________________________________________________________\n",
            "dense_8 (Dense)              (None, 512)               51380736  \n",
            "_________________________________________________________________\n",
            "dropout_4 (Dropout)          (None, 512)               0         \n",
            "_________________________________________________________________\n",
            "dense_9 (Dense)              (None, 1)                 513       \n",
            "=================================================================\n",
            "Total params: 74,946,049\n",
            "Trainable params: 74,900,609\n",
            "Non-trainable params: 45,440\n",
            "_________________________________________________________________\n"
          ],
          "name": "stdout"
        }
      ]
    },
    {
      "cell_type": "code",
      "metadata": {
        "id": "TQ-yjFaWHZZE"
      },
      "source": [
        "checkpoint = ModelCheckpoint(FLDR+\"Model.h5\", monitor='val_accuracy', save_best_only=True, mode='max') #creating checkpoint to save the best validation accuracy\n",
        "callbacks_list = [checkpoint]\n",
        "history = Model.fit(X_train,Y_train,validation_data =(X_val,Y_val),callbacks=callbacks_list,verbose=1,epochs=30,batch_size=32)"
      ],
      "execution_count": null,
      "outputs": []
    },
    {
      "cell_type": "code",
      "metadata": {
        "id": "zrlI1DtGHqGB"
      },
      "source": [
        ""
      ],
      "execution_count": null,
      "outputs": []
    }
  ]
}