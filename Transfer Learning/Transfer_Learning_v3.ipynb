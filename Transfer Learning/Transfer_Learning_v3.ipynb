{
  "nbformat": 4,
  "nbformat_minor": 0,
  "metadata": {
    "colab": {
      "name": "Transfer_Learning_v3.ipynb",
      "provenance": [],
      "machine_shape": "hm"
    },
    "kernelspec": {
      "name": "python3",
      "display_name": "Python 3"
    },
    "language_info": {
      "name": "python"
    },
    "accelerator": "GPU"
  },
  "cells": [
    {
      "cell_type": "code",
      "metadata": {
        "colab": {
          "base_uri": "https://localhost:8080/"
        },
        "id": "z97DAqXTezMn",
        "outputId": "cabaa9ae-d564-4b98-e9ac-393e1a955422"
      },
      "source": [
        "from google.colab import drive\n",
        "drive.mount('/content/drive',force_remount=True)"
      ],
      "execution_count": 12,
      "outputs": [
        {
          "output_type": "stream",
          "text": [
            "Mounted at /content/drive\n"
          ],
          "name": "stdout"
        }
      ]
    },
    {
      "cell_type": "code",
      "metadata": {
        "id": "zu9bp42kfGSW"
      },
      "source": [
        "FLDR='drive/MyDrive/dogs-vs-cats/'"
      ],
      "execution_count": 13,
      "outputs": []
    },
    {
      "cell_type": "code",
      "metadata": {
        "id": "zsVws6t0fOPh"
      },
      "source": [
        "import os"
      ],
      "execution_count": 14,
      "outputs": []
    },
    {
      "cell_type": "code",
      "metadata": {
        "id": "zQnU4UjUfY58"
      },
      "source": [
        "files_zip_full=os.listdir(FLDR)"
      ],
      "execution_count": 15,
      "outputs": []
    },
    {
      "cell_type": "code",
      "metadata": {
        "colab": {
          "base_uri": "https://localhost:8080/"
        },
        "id": "443eQUc8fccT",
        "outputId": "10aa5b2b-3ea6-4798-fa4f-2f870b7d5c6a"
      },
      "source": [
        "files_zip_full"
      ],
      "execution_count": 16,
      "outputs": [
        {
          "output_type": "execute_result",
          "data": {
            "text/plain": [
              "['sampleSubmission.csv',\n",
              " 'test1.zip',\n",
              " 'train.zip',\n",
              " 'weights.h5',\n",
              " 'extracted',\n",
              " 'extracted_2',\n",
              " 'Model.h5']"
            ]
          },
          "metadata": {
            "tags": []
          },
          "execution_count": 16
        }
      ]
    },
    {
      "cell_type": "code",
      "metadata": {
        "id": "zaPGWwcbfd6Y"
      },
      "source": [
        "training_data=files_zip_full[4]+'/train/'"
      ],
      "execution_count": 17,
      "outputs": []
    },
    {
      "cell_type": "code",
      "metadata": {
        "colab": {
          "base_uri": "https://localhost:8080/",
          "height": 35
        },
        "id": "JfZ0hD9pf9Qb",
        "outputId": "4a89f41f-345f-41b1-e32b-0f857138bb09"
      },
      "source": [
        "training_data"
      ],
      "execution_count": 18,
      "outputs": [
        {
          "output_type": "execute_result",
          "data": {
            "application/vnd.google.colaboratory.intrinsic+json": {
              "type": "string"
            },
            "text/plain": [
              "'extracted/train/'"
            ]
          },
          "metadata": {
            "tags": []
          },
          "execution_count": 18
        }
      ]
    },
    {
      "cell_type": "code",
      "metadata": {
        "id": "p6IRS_Jjf-Xt"
      },
      "source": [
        "Labels=[]\n",
        "Names=[]\n",
        "\n",
        "for f_n in os.listdir(FLDR+training_data):\n",
        "  print(f_n)\n",
        "  if 'cat' in f_n or 'Cat' in f_n:\n",
        "    Names.append(f_n)\n",
        "    Labels.append('cat')\n",
        "  if 'dog' in f_n or 'Dog' in f_n:\n",
        "    Names.append(f_n)\n",
        "    Labels.append('dog')"
      ],
      "execution_count": null,
      "outputs": []
    },
    {
      "cell_type": "code",
      "metadata": {
        "id": "LQiENvHngt6N"
      },
      "source": [
        "import pandas as pd"
      ],
      "execution_count": 20,
      "outputs": []
    },
    {
      "cell_type": "code",
      "metadata": {
        "id": "cm9F8Fvekh4v"
      },
      "source": [
        "from keras.applications.resnet_v2 import preprocess_input"
      ],
      "execution_count": 33,
      "outputs": []
    },
    {
      "cell_type": "code",
      "metadata": {
        "id": "hFStYELFiWlh"
      },
      "source": [
        "df_train=pd.DataFrame(list(zip(Names,Labels)),columns=['Files','Labels'])"
      ],
      "execution_count": 21,
      "outputs": []
    },
    {
      "cell_type": "code",
      "metadata": {
        "id": "qXQxOrUeiZmZ",
        "outputId": "a80baae8-7bba-433b-fcf4-6f5b63865299",
        "colab": {
          "base_uri": "https://localhost:8080/",
          "height": 204
        }
      },
      "source": [
        "df_train.tail()"
      ],
      "execution_count": 23,
      "outputs": [
        {
          "output_type": "execute_result",
          "data": {
            "text/html": [
              "<div>\n",
              "<style scoped>\n",
              "    .dataframe tbody tr th:only-of-type {\n",
              "        vertical-align: middle;\n",
              "    }\n",
              "\n",
              "    .dataframe tbody tr th {\n",
              "        vertical-align: top;\n",
              "    }\n",
              "\n",
              "    .dataframe thead th {\n",
              "        text-align: right;\n",
              "    }\n",
              "</style>\n",
              "<table border=\"1\" class=\"dataframe\">\n",
              "  <thead>\n",
              "    <tr style=\"text-align: right;\">\n",
              "      <th></th>\n",
              "      <th>Files</th>\n",
              "      <th>Labels</th>\n",
              "    </tr>\n",
              "  </thead>\n",
              "  <tbody>\n",
              "    <tr>\n",
              "      <th>24995</th>\n",
              "      <td>cat.10893.jpg</td>\n",
              "      <td>cat</td>\n",
              "    </tr>\n",
              "    <tr>\n",
              "      <th>24996</th>\n",
              "      <td>cat.10894.jpg</td>\n",
              "      <td>cat</td>\n",
              "    </tr>\n",
              "    <tr>\n",
              "      <th>24997</th>\n",
              "      <td>cat.10895.jpg</td>\n",
              "      <td>cat</td>\n",
              "    </tr>\n",
              "    <tr>\n",
              "      <th>24998</th>\n",
              "      <td>cat.10896.jpg</td>\n",
              "      <td>cat</td>\n",
              "    </tr>\n",
              "    <tr>\n",
              "      <th>24999</th>\n",
              "      <td>cat.10897.jpg</td>\n",
              "      <td>cat</td>\n",
              "    </tr>\n",
              "  </tbody>\n",
              "</table>\n",
              "</div>"
            ],
            "text/plain": [
              "               Files Labels\n",
              "24995  cat.10893.jpg    cat\n",
              "24996  cat.10894.jpg    cat\n",
              "24997  cat.10895.jpg    cat\n",
              "24998  cat.10896.jpg    cat\n",
              "24999  cat.10897.jpg    cat"
            ]
          },
          "metadata": {
            "tags": []
          },
          "execution_count": 23
        }
      ]
    },
    {
      "cell_type": "code",
      "metadata": {
        "id": "ODrx2WuZidtF",
        "outputId": "52bddcf8-a064-45fb-b502-93a35fc92766",
        "colab": {
          "base_uri": "https://localhost:8080/"
        }
      },
      "source": [
        "df_train['Labels'].value_counts()"
      ],
      "execution_count": 24,
      "outputs": [
        {
          "output_type": "execute_result",
          "data": {
            "text/plain": [
              "dog    12500\n",
              "cat    12500\n",
              "Name: Labels, dtype: int64"
            ]
          },
          "metadata": {
            "tags": []
          },
          "execution_count": 24
        }
      ]
    },
    {
      "cell_type": "code",
      "metadata": {
        "id": "96BV7TUaijwM"
      },
      "source": [
        "from sklearn.model_selection import train_test_split\n",
        "train,val= train_test_split(df_train, test_size=0.1)"
      ],
      "execution_count": 48,
      "outputs": []
    },
    {
      "cell_type": "code",
      "metadata": {
        "id": "XR02H42RivWT"
      },
      "source": [
        "train.to_csv(FLDR+'Train.csv',index=False)\n",
        "val.to_csv(FLDR+'Validate.csv',index=False)"
      ],
      "execution_count": 49,
      "outputs": []
    },
    {
      "cell_type": "code",
      "metadata": {
        "id": "MEZSpQhIi0Oe"
      },
      "source": [
        "from tensorflow.keras.preprocessing.image import ImageDataGenerator"
      ],
      "execution_count": 50,
      "outputs": []
    },
    {
      "cell_type": "code",
      "metadata": {
        "id": "2mDdptlCi3wP"
      },
      "source": [
        "train_set=ImageDataGenerator(\n",
        "    rotation_range=20,\n",
        "    zoom_range=0.1,\n",
        "    shear_range=0.2,\n",
        "    preprocessing_function=preprocess_input\n",
        ")"
      ],
      "execution_count": 51,
      "outputs": []
    },
    {
      "cell_type": "code",
      "metadata": {
        "id": "wERdCKzFpGZk"
      },
      "source": [
        "val_set=ImageDataGenerator(preprocessing_function=preprocess_input)"
      ],
      "execution_count": 52,
      "outputs": []
    },
    {
      "cell_type": "code",
      "metadata": {
        "id": "HfHrTEqkpMaT",
        "outputId": "c9aa61a3-b26c-406b-fada-31ca1aec07dd",
        "colab": {
          "base_uri": "https://localhost:8080/"
        }
      },
      "source": [
        "train_gen=train_set.flow_from_dataframe(\n",
        "    train,\n",
        "    directory=FLDR+'extracted/train/',\n",
        "    x_col='Files',\n",
        "    y_col='Labels',\n",
        "    batch_size=16,\n",
        "    class_mode='binary',\n",
        "    target_size=(224, 224),\n",
        ")"
      ],
      "execution_count": 53,
      "outputs": [
        {
          "output_type": "stream",
          "text": [
            "Found 22500 validated image filenames belonging to 2 classes.\n"
          ],
          "name": "stdout"
        }
      ]
    },
    {
      "cell_type": "code",
      "metadata": {
        "id": "ox5Bc_kNpTOY",
        "outputId": "a7c64122-b129-4bd7-b13c-ea32fabb670c",
        "colab": {
          "base_uri": "https://localhost:8080/"
        }
      },
      "source": [
        "val_gen=val_set.flow_from_dataframe(\n",
        "    val,\n",
        "    directory=FLDR+'extracted/train/',\n",
        "    x_col='Files',\n",
        "    y_col='Labels',\n",
        "    batch_size=16,\n",
        "    class_mode='binary',\n",
        "    target_size=(224, 224),\n",
        ")"
      ],
      "execution_count": 54,
      "outputs": [
        {
          "output_type": "stream",
          "text": [
            "Found 2500 validated image filenames belonging to 2 classes.\n"
          ],
          "name": "stdout"
        }
      ]
    },
    {
      "cell_type": "code",
      "metadata": {
        "id": "vfa334BApYEx"
      },
      "source": [
        "from tensorflow.keras.models import Sequential\n",
        "from tensorflow.keras.layers import Dropout, Flatten, Dense, Input\n",
        "from tensorflow.keras.applications.resnet_v2 import ResNet50V2\n",
        "from keras import optimizers\n",
        "from keras.callbacks import ModelCheckpoint"
      ],
      "execution_count": 55,
      "outputs": []
    },
    {
      "cell_type": "code",
      "metadata": {
        "id": "dYrDebD9pqjG"
      },
      "source": [
        "def model(shape=(224,224,3)):\n",
        "  input_tensor=Input(shape=shape)             \n",
        "\n",
        "  base_model = ResNet50V2(weights=\"imagenet\", include_top=False, input_tensor=input_tensor) \n",
        "  model=Sequential()\n",
        "  model.add(base_model)\n",
        "  model.add(Flatten())\n",
        "  model.add(Dense(512, activation='relu'))\n",
        "  model.add(Dropout(0.3))\n",
        "  model.add(Dense(1, activation='sigmoid'))\n",
        "\n",
        "  for layer in model.layers:\n",
        "    layer.trainable = True\n",
        "  model.compile(optimizer=optimizers.Adam(lr=0.01), loss='binary_crossentropy',metrics=['accuracy'])\n",
        "  return model"
      ],
      "execution_count": 56,
      "outputs": []
    },
    {
      "cell_type": "code",
      "metadata": {
        "id": "Y8HFsC4dqPhg"
      },
      "source": [
        "Model=model()"
      ],
      "execution_count": 57,
      "outputs": []
    },
    {
      "cell_type": "code",
      "metadata": {
        "id": "_gNPvUTOqSV7",
        "outputId": "a5cc9b72-7d72-41d8-c9bd-d6639d039b3e",
        "colab": {
          "base_uri": "https://localhost:8080/"
        }
      },
      "source": [
        "Model.summary()"
      ],
      "execution_count": 58,
      "outputs": [
        {
          "output_type": "stream",
          "text": [
            "Model: \"sequential_1\"\n",
            "_________________________________________________________________\n",
            "Layer (type)                 Output Shape              Param #   \n",
            "=================================================================\n",
            "resnet50v2 (Functional)      (None, 7, 7, 2048)        23564800  \n",
            "_________________________________________________________________\n",
            "flatten_1 (Flatten)          (None, 100352)            0         \n",
            "_________________________________________________________________\n",
            "dense_2 (Dense)              (None, 512)               51380736  \n",
            "_________________________________________________________________\n",
            "dropout_1 (Dropout)          (None, 512)               0         \n",
            "_________________________________________________________________\n",
            "dense_3 (Dense)              (None, 1)                 513       \n",
            "=================================================================\n",
            "Total params: 74,946,049\n",
            "Trainable params: 74,900,609\n",
            "Non-trainable params: 45,440\n",
            "_________________________________________________________________\n"
          ],
          "name": "stdout"
        }
      ]
    },
    {
      "cell_type": "code",
      "metadata": {
        "id": "XR_GF6KGqcui"
      },
      "source": [
        "checkpoint = ModelCheckpoint(FLDR+\"Model.h5\", monitor='val_accuracy', save_best_only=True, mode='max') #creating checkpoint to save the best validation accuracy\n",
        "callbacks_list = [checkpoint]\n",
        "history = Model.fit_generator(train_gen, validation_data = val_gen, steps_per_epoch=50, callbacks=callbacks_list,verbose=1,epochs = 20)"
      ],
      "execution_count": null,
      "outputs": []
    },
    {
      "cell_type": "code",
      "metadata": {
        "id": "NUSHuITUqkvm"
      },
      "source": [
        ""
      ],
      "execution_count": null,
      "outputs": []
    }
  ]
}